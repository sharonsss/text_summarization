{
 "cells": [
  {
   "cell_type": "code",
   "execution_count": 1,
   "metadata": {},
   "outputs": [],
   "source": [
    "import ssl\n",
    "import urllib # help to download a webpage\n",
    "from bs4 import BeautifulSoup\n"
   ]
  },
  {
   "cell_type": "code",
   "execution_count": 13,
   "metadata": {},
   "outputs": [
    {
     "data": {
      "text/plain": [
       "u'Zuckerberg\\'s Latest Libra Pitch: Maintaining American PowerThe Facebook CEO\\'s pitch to Congress on its planned cryptocurrency was a hard sell: Let us build it, or China will. by Jordan PearsonOct 23 2019, 8:19pmShareTweetSnapFacebook founder Mark Zuckerberg appeared before Congress on Wednesday to clarify his company\\'s plans for the planned Libra cryptocurrency.  Zuckerberg made lawmakers uneasy with the idea of a scandal-ridden company butting into global finance what can best be described as a hard sell. \"I believe that this is something that needs to get built,\" Zuckerberg said in his opening statement, while implying that Facebook is merely the reluctant messenger for this inevitable scenario. \"I get that I\\'m not the ideal messenger for this right now,\" he added.  While Zuckerberg paid brief homage to Libra\\'s supposed mission to give unbanked people access to financial services, much of the hearing revolved around China. In Zuckerberg\\'s telling, the U.S. needs a domestic corporation to launch a global payment system backed largely (but not completely) by the U.S. dollar or else other nations will adopt one backed by China. For months, details about a digital currency developed by China have been leaking from the country. Facebook executive David Marcus also raised the specter of a Chinese digital currency as a reason for Libra\\'s supposed necessity in an interview with Bloomberg.  Libra will extend America\\'s \"financial leadership\" abroad, Zuckerberg said, as well as the \"values\" that such \"leadership\" imparts. Democratic Congressman Juan Vargas explained what this means in plain language. \"The dollar is very important to us as a tool of American power,\" Vargas said, and the U.S. \"would rather lay sanctions than send our soldiers there.\" In response, Zuckerberg said that Libra (or at least Facebook\\'s slice of it) is being designed to enforce U.S. sanctions. \"If we don\\'t innovate, there\\'s no guarantee that we can extend those same rules and project that kind of influence around the world going forward,\" he said. \"We need to weigh any risks of a new system against what I think are are surely risks if a Chinese financial system becomes the standard in more countries,\" Zuckerberg said at another point during the hearing. \"Then it would be very difficult, if not impossible, for us to impose our sanctions or the kinds of protections that I think we\\'re right to want to have oversight around the world on all these different countries.\" Libra, which Facebook unveiled in June, is envisioned as a digital token backed by cash and \"highly liquid assets\" that people all over the world could use to transact. Facebook is taking the lead on Libra for now, but eventually control will be handed to an ostensibly independent founding board of 21 companies and nonprofits known as the Libra Association, which is based in Switzerland. Facebook seems to see itself as just one part of an eventual Libra ecosystem and plans to launch a wallet service called Calibra.  As for how Facebook plans to make money on Libra, Zuckerberg said that frictionless payments on Facebook would result in more value for the social network\\'s ad business.  Despite the clear narrative push for the necessity and inevitability of Libra, it\\'s anything but a settled proposition. In the face of looming regulatory pressure, several Libra Association members\\u2014including PayPal, MasterCard, and Visa\\u2014have already dropped out of the project.  And then there are the deep concerns over privacy when a company like Facebook (or the members of the Libra Association, which includes Uber) has any visibility whatsoever into people\\'s financial transactions.  Whether Zuckerberg is earnest at all in his naked appeal to American power, or if it\\'s just another tactic to sell Libra to a skeptical audience, is unclear, as Facebook (like any corporation) pretty much just cares about making money.  At the hearing, Zuckerberg pledged that Facebook will not launch Libra products anywhere in the world without U.S. regulators\\' approvals. Tagged:Newscryptocurrencycongresszuckerberglibrazuckerberg congresslibra congresslibra associationSubscribe to the VICE newsletter.Subscribe'"
      ]
     },
     "execution_count": 13,
     "metadata": {},
     "output_type": "execute_result"
    }
   ],
   "source": [
    "### Retrieve Text\n",
    "articleURL = \"https://www.vice.com/en_us/article/qvgmv7/zuckerbergs-latest-libra-pitch-maintaining-american-power\"\n",
    "\n",
    "# Downloading the webpage using urllib and save it in a variable named page\n",
    "context = ssl._create_unverified_context()\n",
    "resp = urllib.urlopen(articleURL, context=context)\n",
    "page = resp.read().decode('utf8', 'ignore')\n",
    "\n",
    "# Instantiate a BeautifulSoup object on page which will help to creates a tree structure within the page based on structure of the page\n",
    "soup = BeautifulSoup(page, 'lxml')\n",
    "\n",
    "soup.find('article').text\n"
   ]
  },
  {
   "cell_type": "code",
   "execution_count": 14,
   "metadata": {
    "scrolled": true
   },
   "outputs": [
    {
     "data": {
      "text/plain": [
       "[<article class=\"short-form-v2 m-l-aut--xs m-r-aut--xs m-b-6--xs\"><div class=\"article-heading-v2 short-form-v2__heading m-t-4--xs m-b-4--xs\"><div class=\"article-heading-v2__heading-bumper m-t-4--xs\"><a class=\"primary-topic primary-topic--image article-heading-v2__primary-topic dsp-inline-block ff--hed lh--headline fw--bold size--4 size--3-md bb--link\" href=\"/en_us/section/tech\"><img alt=\"Tech by VICE\" class=\"primary-topic__section-image\" src=\"https://video-images.vice.com/sections/5cae7020ee584a00089537dd/brand_attribution_svg/1556813252025-article-logo-motherboard.svg\"/></a></div><h1 class=\"heading ff--hed lh--hed fw--bold fs--normal size--2 article-heading-v2__title m-t-3--xs m-b-3--xs size--1-md\">Zuckerberg's Latest Libra Pitch: Maintaining American Power</h1><div class=\"article-heading-v2__header-dek-wrapper\"><span class=\"lazy-vice-ad\"><div style=\"min-height:1px\"></div></span><h2 class=\"ff--body lh--body fw--normal size--3 m-b-4--xs\">The Facebook CEO's pitch to Congress on its planned cryptocurrency was a hard sell: Let us build it, or China will. </h2><div class=\"article-heading-v2__contributionsSeparator m-b-4--xs\"></div><div class=\"article-heading-v2__contributions ff--body size--5 lh--body\"><div class=\"article-heading-v2__contributors dsp-inline--xs\"><span class=\"contributor__by\">by<!-- --> </span><a class=\"contributor__link bb--link fw--bold\" href=\"/en_us/contributor/jordan-pearson\" title=\"Jordan Pearson\">Jordan Pearson</a></div><div class=\"article-heading-v2__contributors-rest m-t-2--xs\"><div class=\"article-heading-v2__formatted-date dsp-inline--xs\">Oct 23 2019, 8:19pm</div><a class=\"article-heading-v2__social-link m-l-2--xs\" href=\"javascript:;\"><span class=\"p-l-1--xs p-r-1--xs\"><svg class=\"article-share-facebook\" data-testid=\"social-icon-Facebook\" height=\"16\" id=\"5db0adc27b23db0092b51847-facebook\" viewbox=\"0 0 16 16\" width=\"16\" xmlns=\"http://www.w3.org/2000/svg\" xmlns:xlink=\"http://www.w3.org/1999/xlink\"><defs><path d=\"M10.424 16V9.96h2.014l.31-2.35h-2.324V6.113c0-.379.082-.663.245-.852.164-.19.47-.284.917-.284h1.239V2.886c-.276-.069-.878-.103-1.807-.103-.93 0-1.665.27-2.208.813-.542.542-.813 1.303-.813 2.284v1.73h-2.04v2.35h2.04V16H0V0h16v16h-5.576z\" id=\"social-icon-5db0adc27b23db0092b51847-facebook-facebook-a\"></path></defs><g fill=\"none\" fill-rule=\"evenodd\"><path class=\"social-icon-secondary\" d=\"M-50-50h917V70H-50z\" fill=\"#fff\"></path><mask fill=\"#fff\" id=\"social-icon-5db0adc27b23db0092b51847-facebook-facebook-b\"><use xlink:href=\"#social-icon-5db0adc27b23db0092b51847-facebook-facebook-a\"></use></mask><g class=\"social-icon-primary\" fill=\"#000\" mask=\"url(#social-icon-5db0adc27b23db0092b51847-facebook-facebook-b)\"><path d=\"M0 0h16v16H0z\"></path></g></g></svg></span><span class=\"dsp-none--xs dsp-inline--md\">Share</span></a><a class=\"article-heading-v2__social-link m-l-2--xs\" href=\"javascript:;\"><span class=\"p-l-1--xs p-r-1--xs\"><svg class=\"article-share-twitter\" data-testid=\"social-icon-Twitter\" height=\"14\" id=\"5db0adc27b23db0092b51847-twitter\" viewbox=\"0 0 18 14\" width=\"18\" xmlns=\"http://www.w3.org/2000/svg\" xmlns:xlink=\"http://www.w3.org/1999/xlink\"><defs><path d=\"M16.172 3.5v.438c0 1.166-.229 2.347-.686 3.542a10.017 10.017 0 0 1-2.021 3.239c-.89.964-1.99 1.753-3.296 2.364-1.307.611-2.81.917-4.509.917-.515 0-1.025-.034-1.53-.101a10.435 10.435 0 0 1-2.847-.8A9.927 9.927 0 0 1 0 12.42a10.295 10.295 0 0 0 .879.033c.855 0 1.679-.13 2.47-.387a6.942 6.942 0 0 0 2.135-1.127c-.808 0-1.529-.233-2.162-.699a3.63 3.63 0 0 1-1.318-1.758c.117.033.231.053.343.059.111.005.231.008.36.008a4.741 4.741 0 0 0 .984-.1 3.662 3.662 0 0 1-2.109-1.23 3.323 3.323 0 0 1-.844-2.237v-.068c.246.135.507.242.783.32.275.079.565.118.87.118a3.491 3.491 0 0 1-1.196-1.237 3.295 3.295 0 0 1-.457-1.69c0-.315.047-.624.14-.926.095-.303.224-.59.388-.859a9.61 9.61 0 0 0 1.511 1.464 10.647 10.647 0 0 0 3.859 1.902c.72.19 1.462.303 2.223.336a3.275 3.275 0 0 1-.105-.807c0-.483.097-.94.29-1.372.193-.432.457-.807.791-1.127A3.759 3.759 0 0 1 12.445 0c.54 0 1.04.101 1.503.303.463.202.864.471 1.204.808a8.246 8.246 0 0 0 1.23-.329c.4-.14.774-.31 1.126-.513-.14.404-.352.774-.633 1.11a3.85 3.85 0 0 1-.984.842c.363-.045.72-.112 1.072-.202.351-.09.697-.213 1.037-.37A8.305 8.305 0 0 1 16.172 3.5z\" id=\"social-icon-5db0adc27b23db0092b51847-twitter-twitter-a\"></path></defs><g fill=\"none\" fill-rule=\"evenodd\"><path class=\"social-icon-secondary\" d=\"M-116-50h917V70h-917z\" fill=\"#fff\"></path><mask fill=\"#fff\" id=\"social-icon-5db0adc27b23db0092b51847-twitter-twitter-b\"><use xlink:href=\"#social-icon-5db0adc27b23db0092b51847-twitter-twitter-a\"></use></mask><g class=\"social-icon-primary\" fill=\"#000\" mask=\"url(#social-icon-5db0adc27b23db0092b51847-twitter-twitter-b)\"><path d=\"M0 0h18v14H0z\"></path></g></g></svg></span><span class=\"dsp-none--xs dsp-inline--md\">Tweet</span></a><span id=\"5db0adc27b23db0092b51847-snapButton\"><a class=\"snapchat-share-button article-heading-v2__social-link m-l-2--xs\" data-share-url=\"https://www.vice.com/en_us/article/qvgmv7/zuckerbergs-latest-libra-pitch-maintaining-american-power\" title=\"Share on Snapchat\"><span class=\"p-l-1--xs p-r-1--xs\" style=\"position:relative;top:2px\"><svg class=\"article-share-snapchat\" height=\"16\" id=\"5db0adc27b23db0092b51847-snapchat\" viewbox=\"0 0 17 16\" width=\"17\" xmlns=\"http://www.w3.org/2000/svg\" xmlns:xlink=\"http://www.w3.org/1999/xlink\"><defs><path d=\"M4.129 2.714c-.425.951-.257 2.656-.19 3.848-.458.254-1.048-.192-1.381-.192-.347 0-.762.228-.827.568-.047.245.063.602.85.913.305.12 1.03.262 1.198.657.236.555-1.211 3.117-3.484 3.49a.352.352 0 0 0-.294.368c.04.69 1.588.96 2.274 1.067.07.095.127.495.217.8.04.137.144.3.412.3.35 0 .93-.268 1.94-.101.99.165 1.92 1.568 3.708 1.568 1.66 0 2.652-1.41 3.605-1.568.552-.091 1.026-.062 1.556.04.365.072.692.112.796-.246.091-.31.147-.702.216-.795.68-.106 2.235-.375 2.274-1.066a.353.353 0 0 0-.294-.367c-2.234-.368-3.725-2.923-3.484-3.491.167-.394.887-.535 1.197-.657.577-.227.866-.507.86-.83-.008-.415-.507-.662-.874-.662-.373 0-.91.442-1.344.203.068-1.202.236-2.9-.189-3.85C12.067.91 10.28 0 8.491 0 6.714 0 4.939.898 4.129 2.714z\" id=\"social-icon-5db0adc27b23db0092b51847-snapchat-snapchat-a\"></path></defs><g fill=\"none\" fill-rule=\"evenodd\"><path class=\"social-icon-secondary\" d=\"M-577-50h917V70h-917z\" fill=\"#fff\"></path><mask fill=\"#fff\" id=\"social-icon-5db0adc27b23db0092b51847-snapchat-snapchat-b\"><use xlink:href=\"#social-icon-5db0adc27b23db0092b51847-snapchat-snapchat-a\"></use></mask><g class=\"social-icon-primary\" fill=\"#000\" mask=\"url(#social-icon-5db0adc27b23db0092b51847-snapchat-snapchat-b)\"><path d=\"M0 0h17v16H0z\"></path></g></g></svg></span><span class=\"dsp-none--xs dsp-inline--md\">Snap</span></a></span></div></div></div></div><div class=\"short-form-v2__bounding-box\"><div class=\"short-form-v2__body m-l-aut--xs m-r-aut--xs m-l-0--lg m-r-0--lg col-8--lg\"><div class=\"short-form-v2__body__content p402_premium\"><div class=\"short-form-v2__lede-image-wrapper m-b-2--xs\" data-type=\"image-lede\"><div class=\"card-image\"><div class=\"placeholder-image arp-16-9--sm arp card-image__placeholder-image\"><picture class=\"responsive-image placeholder__image\"><source media=\"(min-width: 0px)\" srcset=\"https://video-images.vice.com/articles/5db0adc27b23db0092b51847/lede/1571861837322-Untitled-design.png?crop=1xw:1xh;center,center&amp;resize=700:*\"/><img alt=\"\" class=\"responsive-image__img\"/></picture></div></div></div><div class=\"article-keep-reading\"><div class=\"article-keep-reading__children-container m-t-5--xs\" tabindex=\"-1\"><div class=\"article__body article__body dsp-block-xx ff--body-article size--article lh--body\" data-type=\"body-text\"><p>Facebook founder Mark Zuckerberg appeared before Congress on Wednesday to clarify his company's plans for the planned Libra cryptocurrency. </p> <p>Zuckerberg made lawmakers uneasy with the idea of a scandal-ridden company butting into global finance what can best be described as a hard sell.</p> <p>\"I believe that this is something that needs to get built,\" Zuckerberg said in his opening statement, while implying that Facebook is merely the reluctant messenger for this inevitable scenario. \"I get that I'm not the ideal messenger for this right now,\" he added. </p> <div class=\"ad-unit__container__container\"><div class=\"article-iac__wrapper\"></div></div><p>While Zuckerberg paid brief homage to Libra's <a href=\"https://www.vice.com/en_us/article/pajv7n/facebooks-new-cryptocurrency-libra-is-for-people-who-have-no-other-options\" target=\"_blank\">supposed mission to give unbanked people access to financial services</a>, much of the hearing revolved around China. In Zuckerberg's telling, the U.S. needs a domestic corporation to launch a global payment system backed largely (but not completely) by the U.S. dollar or else other nations will adopt one backed by China. For months, <a href=\"https://www.coindesk.com/chinas-digital-currency-will-be-two-tiered-replace-cash-binance\" target=\"_blank\">details about a digital currency developed by China</a> have been leaking from the country. Facebook executive David Marcus also raised the specter of a Chinese digital currency as a reason for Libra's supposed necessity <a href=\"https://www.bloomberg.com/news/articles/2019-10-17/facebook-warns-washington-that-beijing-wins-if-libra-plan-fails\" target=\"_blank\">in an interview with Bloomberg</a>. </p> <div class=\"article__embed article__embed--vice\" data-related-article=\"true\"><iframe allowfullscreen=\"\" frameborder=\"0\" src=\"https://www.vice.com/en_us/embed/article/mb84a4/facebooks-new-cryptocurrency-libra-is-already-under-fire-from-lawmakers?utm_source=stylizedembed_vice.com&amp;utm_campaign=qvgmv7&amp;site=vice\" style=\"border:0px none;margin:0px;\"></iframe></div><p>Libra will extend America's \"financial leadership\" abroad, Zuckerberg said, as well as the \"values\" that such \"leadership\" imparts. Democratic Congressman Juan Vargas explained what this means in plain language. \"The dollar is very important to us as a tool of American power,\" Vargas said, and the U.S. \"would rather lay sanctions than send our soldiers there.\"</p> <p>In response, Zuckerberg said that Libra (or at least Facebook's slice of it) is being designed to enforce U.S. sanctions. \"If we don't innovate, there's no guarantee that we can extend those same rules and project that kind of influence around the world going forward,\" he said.</p> <p>\"We need to weigh any risks of a new system against what I think are are surely risks if a Chinese financial system becomes the standard in more countries,\" Zuckerberg said at another point during the hearing. \"Then it would be very difficult, if not impossible, for us to impose our sanctions or the kinds of protections that I think we're right to want to have oversight around the world on all these different countries.\"</p> <div class=\"ad-unit__container__container\"><div class=\"article-iac__wrapper\"></div></div><p>Libra, which Facebook unveiled in June, is envisioned as a digital token backed by cash and \"highly liquid assets\" that people all over the world could use to transact. Facebook is taking the lead on Libra for now, but eventually control will be handed to an ostensibly independent founding board of 21 companies and nonprofits known as the Libra Association, which is based in Switzerland. Facebook seems to see itself as just one part of an eventual Libra ecosystem and plans to launch a wallet service called Calibra. </p> <p>As for how Facebook plans to make money on Libra, Zuckerberg said that frictionless payments on Facebook would result in more value for the social network's ad business. </p> <p>Despite the clear narrative push for the necessity and inevitability of Libra, it's anything but a settled proposition. In the face of looming regulatory pressure, several Libra Association members\\u2014including PayPal, MasterCard, and Visa\\u2014have already <a href=\"https://www.theverge.com/2019/10/11/20910330/mastercard-stripe-ebay-facebook-libra-association-withdrawal-cryptocurrency\" target=\"_blank\">dropped out of the project</a>. </p> <p>And then there are the deep concerns over privacy when a company like Facebook (or the members of the Libra Association, which includes Uber) has any visibility whatsoever into people's financial transactions. </p> <p>Whether Zuckerberg is earnest at all in his naked appeal to American power, or if it's just another tactic to sell Libra to a skeptical audience, is unclear, as Facebook (like any corporation) pretty much just cares about making money. </p> <div class=\"ad-unit__container__container\"><div class=\"article-iac__wrapper\"></div></div><p>At the hearing, Zuckerberg pledged that Facebook will not launch Libra products anywhere in the world without U.S. regulators' approvals. </p></div><div class=\"article-after-body\"><ul class=\"topics article-after-body__topics ff--accent lh--headline size--6 p-t-3--xs m-b-6--xs\"><li class=\"topic dsp-inline-block--xs m-b-0--xs\">Tagged:</li><li class=\"topic fw--bold dsp-inline-block--xs m-t-1--xs m-b-0--xs\"><a class=\"topic__link bb--link\" href=\"/en_us/topic/news\">News</a></li><li class=\"topic fw--bold dsp-inline-block--xs m-t-1--xs m-b-0--xs\"><a class=\"topic__link bb--link\" href=\"/en_us/topic/cryptocurrency\">cryptocurrency</a></li><li class=\"topic fw--bold dsp-inline-block--xs m-t-1--xs m-b-0--xs\"><a class=\"topic__link bb--link\" href=\"/en_us/topic/congress\">congress</a></li><li class=\"topic fw--bold dsp-inline-block--xs m-t-1--xs m-b-0--xs\"><a class=\"topic__link bb--link\" href=\"/en_us/topic/zuckerberg\">zuckerberg</a></li><li class=\"topic fw--bold dsp-inline-block--xs m-t-1--xs m-b-0--xs\"><a class=\"topic__link bb--link\" href=\"/en_us/topic/libra\">libra</a></li><li class=\"topic fw--bold dsp-inline-block--xs m-t-1--xs m-b-0--xs\"><a class=\"topic__link bb--link\" href=\"/en_us/topic/zuckerberg-congress\">zuckerberg congress</a></li><li class=\"topic fw--bold dsp-inline-block--xs m-t-1--xs m-b-0--xs\"><a class=\"topic__link bb--link\" href=\"/en_us/topic/libra-congress\">libra congress</a></li><li class=\"topic fw--bold dsp-inline-block--xs m-t-1--xs m-b-0--xs\"><a class=\"topic__link bb--link\" href=\"/en_us/topic/libra-association\">libra association</a></li></ul><div class=\"injected-newsletter p-t-3--xs m-t-6--xs m-b-6--xs\"><div class=\"newsletter-wrapper\"><div class=\"dsp-block-xs newsletter-widget\"><div class=\"dsp-flex-xs flex-wrap col-12-xs\"><div class=\"newsletter__text col-12-xs\"><h2 class=\"ff--hed fw--bold size--4 size--3-md m-b-4--xs\">Subscribe to the VICE newsletter.</h2></div><form class=\"newsletter__input__container dsp-flex-xs col-12-xs grd-algn-item-flex-end-xs\"><div class=\"newsletter__input dsp-flex-xs grd-algn-flex-end-xs m-r-0-xs m-r-2-m\"><input autocomplete=\"email\" class=\"ff--body size--5\" id=\"newsletter__email\" placeholder=\"Your email\" type=\"email\" value=\"\"/></div><button class=\"newsletter__submit-button btn-newsletter ff--body size--5 fw--bold\"><span>Subscribe</span></button></form></div></div></div></div></div></div></div></div></div><aside class=\"short-form-right-rail\"><div class=\"short-form-right-rail__content short-form-right-rail__right-rail\"><div class=\"short-form-right-rail__sticky\"><span class=\"lazy-vice-ad\"><div style=\"min-height:1px\"></div></span></div></div></aside></div></article>]"
      ]
     },
     "execution_count": 14,
     "metadata": {},
     "output_type": "execute_result"
    }
   ],
   "source": [
    "soup.find_all('article')"
   ]
  },
  {
   "cell_type": "code",
   "execution_count": 15,
   "metadata": {},
   "outputs": [
    {
     "data": {
      "text/plain": [
       "unicode"
      ]
     },
     "execution_count": 15,
     "metadata": {},
     "output_type": "execute_result"
    }
   ],
   "source": [
    "type(soup.find_all('article')[0].text)"
   ]
  },
  {
   "cell_type": "code",
   "execution_count": 16,
   "metadata": {},
   "outputs": [
    {
     "data": {
      "text/plain": [
       "u'Zuckerberg\\'s Latest Libra Pitch: Maintaining American PowerThe Facebook CEO\\'s pitch to Congress on its planned cryptocurrency was a hard sell: Let us build it, or China will. by Jordan PearsonOct 23 2019, 8:19pmShareTweetSnapFacebook founder Mark Zuckerberg appeared before Congress on Wednesday to clarify his company\\'s plans for the planned Libra cryptocurrency.  Zuckerberg made lawmakers uneasy with the idea of a scandal-ridden company butting into global finance what can best be described as a hard sell. \"I believe that this is something that needs to get built,\" Zuckerberg said in his opening statement, while implying that Facebook is merely the reluctant messenger for this inevitable scenario. \"I get that I\\'m not the ideal messenger for this right now,\" he added.  While Zuckerberg paid brief homage to Libra\\'s supposed mission to give unbanked people access to financial services, much of the hearing revolved around China. In Zuckerberg\\'s telling, the U.S. needs a domestic corporation to launch a global payment system backed largely (but not completely) by the U.S. dollar or else other nations will adopt one backed by China. For months, details about a digital currency developed by China have been leaking from the country. Facebook executive David Marcus also raised the specter of a Chinese digital currency as a reason for Libra\\'s supposed necessity in an interview with Bloomberg.  Libra will extend America\\'s \"financial leadership\" abroad, Zuckerberg said, as well as the \"values\" that such \"leadership\" imparts. Democratic Congressman Juan Vargas explained what this means in plain language. \"The dollar is very important to us as a tool of American power,\" Vargas said, and the U.S. \"would rather lay sanctions than send our soldiers there.\" In response, Zuckerberg said that Libra (or at least Facebook\\'s slice of it) is being designed to enforce U.S. sanctions. \"If we don\\'t innovate, there\\'s no guarantee that we can extend those same rules and project that kind of influence around the world going forward,\" he said. \"We need to weigh any risks of a new system against what I think are are surely risks if a Chinese financial system becomes the standard in more countries,\" Zuckerberg said at another point during the hearing. \"Then it would be very difficult, if not impossible, for us to impose our sanctions or the kinds of protections that I think we\\'re right to want to have oversight around the world on all these different countries.\" Libra, which Facebook unveiled in June, is envisioned as a digital token backed by cash and \"highly liquid assets\" that people all over the world could use to transact. Facebook is taking the lead on Libra for now, but eventually control will be handed to an ostensibly independent founding board of 21 companies and nonprofits known as the Libra Association, which is based in Switzerland. Facebook seems to see itself as just one part of an eventual Libra ecosystem and plans to launch a wallet service called Calibra.  As for how Facebook plans to make money on Libra, Zuckerberg said that frictionless payments on Facebook would result in more value for the social network\\'s ad business.  Despite the clear narrative push for the necessity and inevitability of Libra, it\\'s anything but a settled proposition. In the face of looming regulatory pressure, several Libra Association members\\u2014including PayPal, MasterCard, and Visa\\u2014have already dropped out of the project.  And then there are the deep concerns over privacy when a company like Facebook (or the members of the Libra Association, which includes Uber) has any visibility whatsoever into people\\'s financial transactions.  Whether Zuckerberg is earnest at all in his naked appeal to American power, or if it\\'s just another tactic to sell Libra to a skeptical audience, is unclear, as Facebook (like any corporation) pretty much just cares about making money.  At the hearing, Zuckerberg pledged that Facebook will not launch Libra products anywhere in the world without U.S. regulators\\' approvals. Tagged:Newscryptocurrencycongresszuckerberglibrazuckerberg congresslibra congresslibra associationSubscribe to the VICE newsletter.Subscribe'"
      ]
     },
     "execution_count": 16,
     "metadata": {},
     "output_type": "execute_result"
    }
   ],
   "source": [
    "# Complete text of the article\n",
    "text=' '.join(map(lambda p: p.text,soup.find_all('article')))\n",
    "text"
   ]
  },
  {
   "cell_type": "code",
   "execution_count": 17,
   "metadata": {},
   "outputs": [
    {
     "data": {
      "text/plain": [
       "u'Zuckerberg\\'s Latest Libra Pitch: Maintaining American PowerThe Facebook CEO\\'s pitch to Congress on its planned cryptocurrency was a hard sell: Let us build it, or China will. by Jordan PearsonOct 23 2019, 8:19pmShareTweetSnapFacebook founder Mark Zuckerberg appeared before Congress on Wednesday to clarify his company\\'s plans for the planned Libra cryptocurrency.  Zuckerberg made lawmakers uneasy with the idea of a scandal-ridden company butting into global finance what can best be described as a hard sell. \"I believe that this is something that needs to get built,\" Zuckerberg said in his opening statement, while implying that Facebook is merely the reluctant messenger for this inevitable scenario. \"I get that I\\'m not the ideal messenger for this right now,\" he added.  While Zuckerberg paid brief homage to Libra\\'s supposed mission to give unbanked people access to financial services, much of the hearing revolved around China. In Zuckerberg\\'s telling, the U.S. needs a domestic corporation to launch a global payment system backed largely (but not completely) by the U.S. dollar or else other nations will adopt one backed by China. For months, details about a digital currency developed by China have been leaking from the country. Facebook executive David Marcus also raised the specter of a Chinese digital currency as a reason for Libra\\'s supposed necessity in an interview with Bloomberg.  Libra will extend America\\'s \"financial leadership\" abroad, Zuckerberg said, as well as the \"values\" that such \"leadership\" imparts. Democratic Congressman Juan Vargas explained what this means in plain language. \"The dollar is very important to us as a tool of American power,\" Vargas said, and the U.S. \"would rather lay sanctions than send our soldiers there.\" In response, Zuckerberg said that Libra (or at least Facebook\\'s slice of it) is being designed to enforce U.S. sanctions. \"If we don\\'t innovate, there\\'s no guarantee that we can extend those same rules and project that kind of influence around the world going forward,\" he said. \"We need to weigh any risks of a new system against what I think are are surely risks if a Chinese financial system becomes the standard in more countries,\" Zuckerberg said at another point during the hearing. \"Then it would be very difficult, if not impossible, for us to impose our sanctions or the kinds of protections that I think we\\'re right to want to have oversight around the world on all these different countries.\" Libra, which Facebook unveiled in June, is envisioned as a digital token backed by cash and \"highly liquid assets\" that people all over the world could use to transact. Facebook is taking the lead on Libra for now, but eventually control will be handed to an ostensibly independent founding board of 21 companies and nonprofits known as the Libra Association, which is based in Switzerland. Facebook seems to see itself as just one part of an eventual Libra ecosystem and plans to launch a wallet service called Calibra.  As for how Facebook plans to make money on Libra, Zuckerberg said that frictionless payments on Facebook would result in more value for the social network\\'s ad business.  Despite the clear narrative push for the necessity and inevitability of Libra, it\\'s anything but a settled proposition. In the face of looming regulatory pressure, several Libra Association members including PayPal, MasterCard, and Visa have already dropped out of the project.  And then there are the deep concerns over privacy when a company like Facebook (or the members of the Libra Association, which includes Uber) has any visibility whatsoever into people\\'s financial transactions.  Whether Zuckerberg is earnest at all in his naked appeal to American power, or if it\\'s just another tactic to sell Libra to a skeptical audience, is unclear, as Facebook (like any corporation) pretty much just cares about making money.  At the hearing, Zuckerberg pledged that Facebook will not launch Libra products anywhere in the world without U.S. regulators\\' approvals. Tagged:Newscryptocurrencycongresszuckerberglibrazuckerberg congresslibra congresslibra associationSubscribe to the VICE newsletter.Subscribe'"
      ]
     },
     "execution_count": 17,
     "metadata": {},
     "output_type": "execute_result"
    }
   ],
   "source": [
    "# Removing special character from the text\n",
    "text.encode('ascii', errors='replace')\n",
    "text.encode('ascii',errors='replace').decode('utf-8').replace('?',' ')"
   ]
  },
  {
   "cell_type": "code",
   "execution_count": 24,
   "metadata": {},
   "outputs": [],
   "source": [
    "def getTextfromurl(url):\n",
    "    context = ssl._create_unverified_context()\n",
    "    \n",
    "    page = urllib.urlopen(url, context=context).read().decode('utf8')\n",
    "    soup = BeautifulSoup(page,\"lxml\")\n",
    "    text = ' '.join(map(lambda p: p.text, soup.find_all('article')))\n",
    "    return text.encode('ascii', errors='replace').decode('utf-8').replace(\"?\",\" \")"
   ]
  },
  {
   "cell_type": "code",
   "execution_count": 25,
   "metadata": {},
   "outputs": [
    {
     "data": {
      "text/plain": [
       "u'Zuckerberg\\'s Latest Libra Pitch: Maintaining American PowerThe Facebook CEO\\'s pitch to Congress on its planned cryptocurrency was a hard sell: Let us build it, or China will. by Jordan PearsonOct 23 2019, 8:19pmShareTweetSnapFacebook founder Mark Zuckerberg appeared before Congress on Wednesday to clarify his company\\'s plans for the planned Libra cryptocurrency.  Zuckerberg made lawmakers uneasy with the idea of a scandal-ridden company butting into global finance what can best be described as a hard sell. \"I believe that this is something that needs to get built,\" Zuckerberg said in his opening statement, while implying that Facebook is merely the reluctant messenger for this inevitable scenario. \"I get that I\\'m not the ideal messenger for this right now,\" he added.  While Zuckerberg paid brief homage to Libra\\'s supposed mission to give unbanked people access to financial services, much of the hearing revolved around China. In Zuckerberg\\'s telling, the U.S. needs a domestic corporation to launch a global payment system backed largely (but not completely) by the U.S. dollar or else other nations will adopt one backed by China. For months, details about a digital currency developed by China have been leaking from the country. Facebook executive David Marcus also raised the specter of a Chinese digital currency as a reason for Libra\\'s supposed necessity in an interview with Bloomberg.  Libra will extend America\\'s \"financial leadership\" abroad, Zuckerberg said, as well as the \"values\" that such \"leadership\" imparts. Democratic Congressman Juan Vargas explained what this means in plain language. \"The dollar is very important to us as a tool of American power,\" Vargas said, and the U.S. \"would rather lay sanctions than send our soldiers there.\" In response, Zuckerberg said that Libra (or at least Facebook\\'s slice of it) is being designed to enforce U.S. sanctions. \"If we don\\'t innovate, there\\'s no guarantee that we can extend those same rules and project that kind of influence around the world going forward,\" he said. \"We need to weigh any risks of a new system against what I think are are surely risks if a Chinese financial system becomes the standard in more countries,\" Zuckerberg said at another point during the hearing. \"Then it would be very difficult, if not impossible, for us to impose our sanctions or the kinds of protections that I think we\\'re right to want to have oversight around the world on all these different countries.\" Libra, which Facebook unveiled in June, is envisioned as a digital token backed by cash and \"highly liquid assets\" that people all over the world could use to transact. Facebook is taking the lead on Libra for now, but eventually control will be handed to an ostensibly independent founding board of 21 companies and nonprofits known as the Libra Association, which is based in Switzerland. Facebook seems to see itself as just one part of an eventual Libra ecosystem and plans to launch a wallet service called Calibra.  As for how Facebook plans to make money on Libra, Zuckerberg said that frictionless payments on Facebook would result in more value for the social network\\'s ad business.  Despite the clear narrative push for the necessity and inevitability of Libra, it\\'s anything but a settled proposition. In the face of looming regulatory pressure, several Libra Association members including PayPal, MasterCard, and Visa have already dropped out of the project.  And then there are the deep concerns over privacy when a company like Facebook (or the members of the Libra Association, which includes Uber) has any visibility whatsoever into people\\'s financial transactions.  Whether Zuckerberg is earnest at all in his naked appeal to American power, or if it\\'s just another tactic to sell Libra to a skeptical audience, is unclear, as Facebook (like any corporation) pretty much just cares about making money.  At the hearing, Zuckerberg pledged that Facebook will not launch Libra products anywhere in the world without U.S. regulators\\' approvals. Tagged:Newscryptocurrencycongresszuckerberglibrazuckerberg congresslibra congresslibra associationSubscribe to the VICE newsletter.Subscribe'"
      ]
     },
     "execution_count": 25,
     "metadata": {},
     "output_type": "execute_result"
    }
   ],
   "source": [
    "text=getTextfromurl(articleURL)\n",
    "text"
   ]
  },
  {
   "cell_type": "code",
   "execution_count": 26,
   "metadata": {},
   "outputs": [],
   "source": [
    "### Preprocessing\n",
    "from nltk.corpus import stopwords\n",
    "from string import punctuation\n",
    "Cstopwords=set(stopwords.words('english')+list(punctuation))\n",
    "\n",
    "# remove stopwords\n",
    "from nltk.tokenize import word_tokenize\n",
    "words=[w for w in word_tokenize(text.lower()) if w not in Cstopwords]"
   ]
  },
  {
   "cell_type": "code",
   "execution_count": 28,
   "metadata": {},
   "outputs": [
    {
     "data": {
      "text/plain": [
       "[u'called',\n",
       " u'tagged',\n",
       " u'founder',\n",
       " u'developed',\n",
       " u'unclear',\n",
       " u'global',\n",
       " u'domestic',\n",
       " u'mission',\n",
       " u'implying',\n",
       " u'proposition',\n",
       " u'including',\n",
       " u'pitch',\n",
       " u'soldiers',\n",
       " u'reluctant',\n",
       " u'based',\n",
       " u'chinese',\n",
       " u'23',\n",
       " u'calibra',\n",
       " u'transact',\n",
       " u'seems',\n",
       " u'send',\n",
       " u'libra',\n",
       " u'2019',\n",
       " u'board',\n",
       " u'whatsoever',\n",
       " u'money',\n",
       " u'lawmakers',\n",
       " u'oversight',\n",
       " u'impose',\n",
       " u'details',\n",
       " u'pearsonoct',\n",
       " u'eventually',\n",
       " u'executive',\n",
       " u'founding',\n",
       " u'around',\n",
       " u'get',\n",
       " u'ceo',\n",
       " u'dollar',\n",
       " u'earnest',\n",
       " u'facebook',\n",
       " u'anywhere',\n",
       " u'despite',\n",
       " u'telling',\n",
       " u'world',\n",
       " u'one',\n",
       " u'maintaining',\n",
       " u'marcus',\n",
       " u'several',\n",
       " u'like',\n",
       " u'countries',\n",
       " u'envisioned',\n",
       " u'companies',\n",
       " u'wednesday',\n",
       " u'naked',\n",
       " u'token',\n",
       " u'pledged',\n",
       " u'payments',\n",
       " u'mastercard',\n",
       " u'ecosystem',\n",
       " u'switzerland',\n",
       " u'inevitability',\n",
       " u'response',\n",
       " u'enforce',\n",
       " u'right',\n",
       " u'financial',\n",
       " u'frictionless',\n",
       " u'people',\n",
       " u'imparts',\n",
       " u'hard',\n",
       " u'idea',\n",
       " u'see',\n",
       " u'slice',\n",
       " u'kinds',\n",
       " u'best',\n",
       " u'project',\n",
       " u'said',\n",
       " u'power',\n",
       " u'lead',\n",
       " u'unbanked',\n",
       " u'associationsubscribe',\n",
       " u'brief',\n",
       " u'abroad',\n",
       " u'access',\n",
       " u'protections',\n",
       " u'messenger',\n",
       " u'newsletter.subscribe',\n",
       " u'new',\n",
       " u'revolved',\n",
       " u'risks',\n",
       " u'extend',\n",
       " u'opening',\n",
       " u'dropped',\n",
       " u'approvals',\n",
       " u'u.s.',\n",
       " u'standard',\n",
       " u'zuckerberg',\n",
       " u'clarify',\n",
       " u'completely',\n",
       " u'leadership',\n",
       " u'let',\n",
       " u'looming',\n",
       " u'members',\n",
       " u'backed',\n",
       " u'scandal-ridden',\n",
       " u'business',\n",
       " u'inevitable',\n",
       " u'21',\n",
       " u'service',\n",
       " u'language',\n",
       " u'launch',\n",
       " u'country',\n",
       " u'could',\n",
       " u'homage',\n",
       " u'reason',\n",
       " u'david',\n",
       " u'american',\n",
       " u'visa',\n",
       " u'visibility',\n",
       " u'planned',\n",
       " u'newscryptocurrencycongresszuckerberglibrazuckerberg',\n",
       " u'social',\n",
       " u'china',\n",
       " u'settled',\n",
       " u'think',\n",
       " u'designed',\n",
       " u'uber',\n",
       " u'raised',\n",
       " u'already',\n",
       " u'bloomberg',\n",
       " u'point',\n",
       " u'appeared',\n",
       " u'merely',\n",
       " u'explained',\n",
       " u'hearing',\n",
       " u'regulatory',\n",
       " u'pretty',\n",
       " u'another',\n",
       " u'skeptical',\n",
       " u'impossible',\n",
       " u'ad',\n",
       " u'use',\n",
       " u'described',\n",
       " u'8:19pmsharetweetsnapfacebook',\n",
       " u'would',\n",
       " u'privacy',\n",
       " u'system',\n",
       " u'least',\n",
       " u'mark',\n",
       " u'powerthe',\n",
       " u'much',\n",
       " u'appeal',\n",
       " u'statement',\n",
       " u'forward',\n",
       " u'``',\n",
       " u'becomes',\n",
       " u'going',\n",
       " u'company',\n",
       " u'paypal',\n",
       " u'leaking',\n",
       " u'congresslibra',\n",
       " u'innovate',\n",
       " u'else',\n",
       " u'part',\n",
       " u'jordan',\n",
       " u'known',\n",
       " u'believe',\n",
       " u'audience',\n",
       " u\"''\",\n",
       " u'kind',\n",
       " u'made',\n",
       " u'liquid',\n",
       " u'sanctions',\n",
       " u'whether',\n",
       " u'plain',\n",
       " u'vice',\n",
       " u'cash',\n",
       " u'us',\n",
       " u'nations',\n",
       " u\"n't\",\n",
       " u'wallet',\n",
       " u\"'re\",\n",
       " u'values',\n",
       " u'supposed',\n",
       " u'regulators',\n",
       " u'making',\n",
       " u'pressure',\n",
       " u'taking',\n",
       " u'result',\n",
       " u'control',\n",
       " u'months',\n",
       " u'unveiled',\n",
       " u'give',\n",
       " u'influence',\n",
       " u'deep',\n",
       " u'cryptocurrency',\n",
       " u'currency',\n",
       " u'something',\n",
       " u'want',\n",
       " u'need',\n",
       " u'anything',\n",
       " u'association',\n",
       " u'specter',\n",
       " u'finance',\n",
       " u'sell',\n",
       " u'needs',\n",
       " u'built',\n",
       " u'eventual',\n",
       " u'rather',\n",
       " u'corporation',\n",
       " u'juan',\n",
       " u'means',\n",
       " u'handed',\n",
       " u'cares',\n",
       " u'also',\n",
       " u'ideal',\n",
       " u'concerns',\n",
       " u'surely',\n",
       " u'build',\n",
       " u'tactic',\n",
       " u'digital',\n",
       " u'interview',\n",
       " u'products',\n",
       " u'butting',\n",
       " u'guarantee',\n",
       " u'tool',\n",
       " u'difficult',\n",
       " u'independent',\n",
       " u'added',\n",
       " u\"'s\",\n",
       " u'plans',\n",
       " u'congress',\n",
       " u'transactions',\n",
       " u'june',\n",
       " u'different',\n",
       " u'paid',\n",
       " u'includes',\n",
       " u'important',\n",
       " u'lay',\n",
       " u'necessity',\n",
       " u'congressman',\n",
       " u'services',\n",
       " u'highly',\n",
       " u\"'m\",\n",
       " u'america',\n",
       " u'vargas',\n",
       " u'payment',\n",
       " u'network',\n",
       " u'nonprofits',\n",
       " u'value',\n",
       " u'assets',\n",
       " u'scenario',\n",
       " u'largely',\n",
       " u'rules',\n",
       " u'clear',\n",
       " u'adopt',\n",
       " u'well',\n",
       " u'face',\n",
       " u'ostensibly',\n",
       " u'without',\n",
       " u'narrative',\n",
       " u'push',\n",
       " u'weigh',\n",
       " u'uneasy',\n",
       " u'democratic',\n",
       " u'make',\n",
       " u'latest']"
      ]
     },
     "execution_count": 28,
     "metadata": {},
     "output_type": "execute_result"
    }
   ],
   "source": [
    "\"\"\"\n",
    "Abstract Extraction:- A rule based approach for text summarization\n",
    "Steps:-\n",
    "  Find the most important word\n",
    "  word importance= word frequency\n",
    "  Compute a significance score for sentences based on words they contain.\n",
    "  significance score=sum(word importance)\n",
    "  Pick the top most significant sentences\n",
    "  \n",
    "\"\"\"\n",
    "# Frequency distribution of words\n",
    "from nltk.probability import FreqDist\n",
    "dist = FreqDist(words)\n",
    "dist.keys()"
   ]
  },
  {
   "cell_type": "code",
   "execution_count": 35,
   "metadata": {},
   "outputs": [
    {
     "data": {
      "text/plain": [
       "1"
      ]
     },
     "execution_count": 35,
     "metadata": {},
     "output_type": "execute_result"
    }
   ],
   "source": [
    "dist[u'see']"
   ]
  },
  {
   "cell_type": "code",
   "execution_count": 36,
   "metadata": {},
   "outputs": [
    {
     "data": {
      "text/plain": [
       "[(u'libra', 16),\n",
       " (u\"'s\", 13),\n",
       " (u'facebook', 12),\n",
       " (u'zuckerberg', 12),\n",
       " (u'``', 11),\n",
       " (u\"''\", 11),\n",
       " (u'said', 7),\n",
       " (u'u.s.', 5),\n",
       " (u'world', 4),\n",
       " (u'financial', 4)]"
      ]
     },
     "execution_count": 36,
     "metadata": {},
     "output_type": "execute_result"
    }
   ],
   "source": [
    "# top ten most common words\n",
    "dist.most_common(n=10)"
   ]
  },
  {
   "cell_type": "code",
   "execution_count": 37,
   "metadata": {},
   "outputs": [
    {
     "data": {
      "text/plain": [
       "[u'libra',\n",
       " u\"'s\",\n",
       " u'facebook',\n",
       " u'zuckerberg',\n",
       " u'``',\n",
       " u\"''\",\n",
       " u'said',\n",
       " u'u.s.',\n",
       " u'world',\n",
       " u'financial']"
      ]
     },
     "execution_count": 37,
     "metadata": {},
     "output_type": "execute_result"
    }
   ],
   "source": [
    "from heapq import nlargest\n",
    "nlargest(10, dist, key=dist.get)"
   ]
  },
  {
   "cell_type": "code",
   "execution_count": 39,
   "metadata": {},
   "outputs": [
    {
     "data": {
      "text/plain": [
       "[u'libra',\n",
       " u\"'s\",\n",
       " u'facebook',\n",
       " u'zuckerberg',\n",
       " u'``',\n",
       " u\"''\",\n",
       " u'said',\n",
       " u'u.s.',\n",
       " u'world',\n",
       " u'financial',\n",
       " u'china',\n",
       " u'around']"
      ]
     },
     "execution_count": 39,
     "metadata": {},
     "output_type": "execute_result"
    }
   ],
   "source": [
    "\n",
    "# Alternate method\n",
    "sorted(dist, key=dist.get, reverse=True)[:12]"
   ]
  },
  {
   "cell_type": "code",
   "execution_count": 40,
   "metadata": {},
   "outputs": [
    {
     "data": {
      "text/plain": [
       "26"
      ]
     },
     "execution_count": 40,
     "metadata": {},
     "output_type": "execute_result"
    }
   ],
   "source": [
    "# split the article into sentences\n",
    "from nltk.tokenize import sent_tokenize\n",
    "word_sents = sent_tokenize(text)\n",
    "len(word_sents)"
   ]
  },
  {
   "cell_type": "code",
   "execution_count": 41,
   "metadata": {},
   "outputs": [
    {
     "data": {
      "text/plain": [
       "defaultdict(int,\n",
       "            {0: 97,\n",
       "             1: 63,\n",
       "             2: 31,\n",
       "             3: 69,\n",
       "             4: 31,\n",
       "             5: 71,\n",
       "             6: 69,\n",
       "             7: 14,\n",
       "             8: 61,\n",
       "             9: 129,\n",
       "             10: 9,\n",
       "             11: 80,\n",
       "             12: 73,\n",
       "             13: 61,\n",
       "             14: 73,\n",
       "             15: 53,\n",
       "             16: 74,\n",
       "             17: 62,\n",
       "             18: 45,\n",
       "             19: 89,\n",
       "             20: 39,\n",
       "             21: 34,\n",
       "             22: 66,\n",
       "             23: 82,\n",
       "             24: 61,\n",
       "             25: 9})"
      ]
     },
     "execution_count": 41,
     "metadata": {},
     "output_type": "execute_result"
    }
   ],
   "source": [
    "# Creating dictionary with keys-> Sentences Values-> Significance Scores\n",
    "# defaultdict is special type of dict. It will not through an error if the key is not present, it will simply add a new key to dictionary.\n",
    "# If you lookup a non-existent key, it's added to the dictionary\n",
    "\n",
    "from collections import defaultdict\n",
    "ranking = defaultdict(int)\n",
    "\n",
    "for i, sent in enumerate(word_sents):\n",
    "    for w in word_tokenize(sent.lower()):\n",
    "        if w in dist:\n",
    "            ranking[i] += dist[w]\n",
    "            \n",
    "ranking"
   ]
  },
  {
   "cell_type": "code",
   "execution_count": 42,
   "metadata": {},
   "outputs": [
    {
     "data": {
      "text/plain": [
       "[9, 0, 19, 23]"
      ]
     },
     "execution_count": 42,
     "metadata": {},
     "output_type": "execute_result"
    }
   ],
   "source": [
    "# top 4 sentences based on significant scores\n",
    "sents_idx = nlargest(4, ranking, key = ranking.get)\n",
    "sents_idx"
   ]
  },
  {
   "cell_type": "code",
   "execution_count": 43,
   "metadata": {},
   "outputs": [
    {
     "data": {
      "text/plain": [
       "[u\"Zuckerberg's Latest Libra Pitch: Maintaining American PowerThe Facebook CEO's pitch to Congress on its planned cryptocurrency was a hard sell: Let us build it, or China will.\",\n",
       " u'Libra will extend America\\'s \"financial leadership\" abroad, Zuckerberg said, as well as the \"values\" that such \"leadership\" imparts.',\n",
       " u\"As for how Facebook plans to make money on Libra, Zuckerberg said that frictionless payments on Facebook would result in more value for the social network's ad business.\",\n",
       " u\"Whether Zuckerberg is earnest at all in his naked appeal to American power, or if it's just another tactic to sell Libra to a skeptical audience, is unclear, as Facebook (like any corporation) pretty much just cares about making money.\"]"
      ]
     },
     "execution_count": 43,
     "metadata": {},
     "output_type": "execute_result"
    }
   ],
   "source": [
    "# smmary of the articlr in four sentences\n",
    "[word_sents[j] for j in sorted(sents_idx)]"
   ]
  },
  {
   "cell_type": "code",
   "execution_count": 48,
   "metadata": {},
   "outputs": [],
   "source": [
    "### Final Take Away\n",
    "# For a given article url\n",
    "articleURL = \"https://www.vice.com/en_us/article/qvgmk7/team-trump-is-withholding-bill-taylors-detailed-ukraine-notes-from-congress\""
   ]
  },
  {
   "cell_type": "code",
   "execution_count": 49,
   "metadata": {},
   "outputs": [],
   "source": [
    "import ssl\n",
    "import urllib\n",
    "from bs4 import BeautifulSoup\n",
    "from nltk.corpus import stopwords\n",
    "from nltk.tokenize import word_tokenize,sent_tokenize\n",
    "from string import punctuation\n",
    "from nltk.probability import FreqDist\n",
    "from heapq import nlargest\n",
    "from collections import defaultdict\n",
    "\n",
    "def getTextfromurl(url):\n",
    "    context = ssl._create_unverified_context()\n",
    "    \n",
    "    page = urllib.urlopen(url, context=context).read().decode('utf8')\n",
    "    soup = BeautifulSoup(page,\"lxml\")\n",
    "    text = ' '.join(map(lambda p: p.text, soup.find_all('article')))\n",
    "    return text.encode('ascii', errors='replace').decode('utf-8').replace(\"?\",\" \")\n",
    "\n",
    "def summarize(text, n):\n",
    "    sents = sent_tokenize(text)\n",
    "    \n",
    "    assert n <= len(sents)\n",
    "    word_sent = word_tokenize(text.lower())\n",
    "    _stopwords = set(stopwords.words('english') + list(punctuation))\n",
    "    \n",
    "    word_sent=[word for word in word_sent if word not in _stopwords]\n",
    "    freq = FreqDist(word_sent)\n",
    "    \n",
    "    \n",
    "    ranking = defaultdict(int)\n",
    "    \n",
    "    for i,sent in enumerate(sents):\n",
    "        for w in word_tokenize(sent.lower()):\n",
    "            if w in freq:\n",
    "                ranking[i] += freq[w]\n",
    "             \n",
    "        \n",
    "    sents_idx = nlargest(n, ranking, key=ranking.get)\n",
    "    return [sents[j] for j in sorted(sents_idx)]"
   ]
  },
  {
   "cell_type": "code",
   "execution_count": 51,
   "metadata": {},
   "outputs": [
    {
     "data": {
      "text/plain": [
       "[u\"Team Trump Is Withholding Bill Taylor's Detailed Ukraine Notes From CongressThe suppression of Taylor s notes raises yet more questions about the lengths to which top Trump administration officials have gone to shield the president from a detailed look at his own behavior.\",\n",
       " u'Taylor s detailed records, which informed his damning account of the Trump administration s backdoor pressure campaign on Ukraine, were turned over to the State Department and were not handed over to Congressional impeachment investigators, a person familiar with the situation told VICE News on Wednesday.',\n",
       " u\"In a letter, Sondland told Congress that his records were technically government property, and couldn t be released if the State Department didn't agree   which it didn t. Congress did get one big batch of damning documents, however, from Ambassador Kurt Volker, who was Trump s special envoy to Ukraine before he abruptly resigned after his role in the scandal emerged.\"]"
      ]
     },
     "execution_count": 51,
     "metadata": {},
     "output_type": "execute_result"
    }
   ],
   "source": [
    "text=getTextfromurl(articleURL)\n",
    "summarize(text,3)"
   ]
  },
  {
   "cell_type": "code",
   "execution_count": null,
   "metadata": {},
   "outputs": [],
   "source": []
  }
 ],
 "metadata": {
  "kernelspec": {
   "display_name": "python3",
   "language": "python",
   "name": "python3"
  },
  "language_info": {
   "codemirror_mode": {
    "name": "ipython",
    "version": 2
   },
   "file_extension": ".py",
   "mimetype": "text/x-python",
   "name": "python",
   "nbconvert_exporter": "python",
   "pygments_lexer": "ipython2",
   "version": "2.7.15"
  }
 },
 "nbformat": 4,
 "nbformat_minor": 2
}
